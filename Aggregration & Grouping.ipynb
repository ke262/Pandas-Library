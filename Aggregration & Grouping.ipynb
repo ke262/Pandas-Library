{
 "cells": [
  {
   "cell_type": "code",
   "execution_count": 5,
   "id": "11b1dd98-757c-4ee9-9965-4ad910de8af3",
   "metadata": {},
   "outputs": [],
   "source": [
    "import pandas as pd"
   ]
  },
  {
   "cell_type": "code",
   "execution_count": 6,
   "id": "640486af-8a29-4a21-9ce3-7fb9ecf08db3",
   "metadata": {},
   "outputs": [],
   "source": [
    "df = pd.DataFrame({\n",
    "    \"Department\": [\"HR\", \"HR\", \"IT\", \"IT\", \"Marketing\", \"Marketing\", \"Sales\", \"Sales\"],\n",
    "    \"Team\": [\"A\", \"A\", \"B\", \"B\", \"C\", \"C\", \"D\", \"D\"],\n",
    "    \"Gender\": [\"M\", \"F\", \"M\", \"F\", \"M\", \"F\", \"M\", \"F\"],\n",
    "    \"Salary\": [85, 90, 78, 85, 92, 88, 75, 80],\n",
    "    \"Age\": [23, 25, 30, 22, 28, 26, 21, 27],\n",
    "    \"JoinDate\": pd.to_datetime([\n",
    "        \"2020-01-10\", \"2020-02-15\", \"2021-03-20\", \"2021-04-10\",\n",
    "        \"2020-05-30\", \"2020-06-25\", \"2021-07-15\", \"2021-08-01\"\n",
    "    ])\n",
    "})\n"
   ]
  },
  {
   "cell_type": "code",
   "execution_count": 7,
   "id": "5ba7b194-6118-4324-a4d9-e06509e3b4e4",
   "metadata": {},
   "outputs": [
    {
     "data": {
      "text/html": [
       "<div>\n",
       "<style scoped>\n",
       "    .dataframe tbody tr th:only-of-type {\n",
       "        vertical-align: middle;\n",
       "    }\n",
       "\n",
       "    .dataframe tbody tr th {\n",
       "        vertical-align: top;\n",
       "    }\n",
       "\n",
       "    .dataframe thead th {\n",
       "        text-align: right;\n",
       "    }\n",
       "</style>\n",
       "<table border=\"1\" class=\"dataframe\">\n",
       "  <thead>\n",
       "    <tr style=\"text-align: right;\">\n",
       "      <th></th>\n",
       "      <th>Department</th>\n",
       "      <th>Team</th>\n",
       "      <th>Gender</th>\n",
       "      <th>Salary</th>\n",
       "      <th>Age</th>\n",
       "      <th>JoinDate</th>\n",
       "    </tr>\n",
       "  </thead>\n",
       "  <tbody>\n",
       "    <tr>\n",
       "      <th>0</th>\n",
       "      <td>HR</td>\n",
       "      <td>A</td>\n",
       "      <td>M</td>\n",
       "      <td>85</td>\n",
       "      <td>23</td>\n",
       "      <td>2020-01-10</td>\n",
       "    </tr>\n",
       "    <tr>\n",
       "      <th>1</th>\n",
       "      <td>HR</td>\n",
       "      <td>A</td>\n",
       "      <td>F</td>\n",
       "      <td>90</td>\n",
       "      <td>25</td>\n",
       "      <td>2020-02-15</td>\n",
       "    </tr>\n",
       "    <tr>\n",
       "      <th>2</th>\n",
       "      <td>IT</td>\n",
       "      <td>B</td>\n",
       "      <td>M</td>\n",
       "      <td>78</td>\n",
       "      <td>30</td>\n",
       "      <td>2021-03-20</td>\n",
       "    </tr>\n",
       "    <tr>\n",
       "      <th>3</th>\n",
       "      <td>IT</td>\n",
       "      <td>B</td>\n",
       "      <td>F</td>\n",
       "      <td>85</td>\n",
       "      <td>22</td>\n",
       "      <td>2021-04-10</td>\n",
       "    </tr>\n",
       "    <tr>\n",
       "      <th>4</th>\n",
       "      <td>Marketing</td>\n",
       "      <td>C</td>\n",
       "      <td>M</td>\n",
       "      <td>92</td>\n",
       "      <td>28</td>\n",
       "      <td>2020-05-30</td>\n",
       "    </tr>\n",
       "    <tr>\n",
       "      <th>5</th>\n",
       "      <td>Marketing</td>\n",
       "      <td>C</td>\n",
       "      <td>F</td>\n",
       "      <td>88</td>\n",
       "      <td>26</td>\n",
       "      <td>2020-06-25</td>\n",
       "    </tr>\n",
       "    <tr>\n",
       "      <th>6</th>\n",
       "      <td>Sales</td>\n",
       "      <td>D</td>\n",
       "      <td>M</td>\n",
       "      <td>75</td>\n",
       "      <td>21</td>\n",
       "      <td>2021-07-15</td>\n",
       "    </tr>\n",
       "    <tr>\n",
       "      <th>7</th>\n",
       "      <td>Sales</td>\n",
       "      <td>D</td>\n",
       "      <td>F</td>\n",
       "      <td>80</td>\n",
       "      <td>27</td>\n",
       "      <td>2021-08-01</td>\n",
       "    </tr>\n",
       "  </tbody>\n",
       "</table>\n",
       "</div>"
      ],
      "text/plain": [
       "  Department Team Gender  Salary  Age   JoinDate\n",
       "0         HR    A      M      85   23 2020-01-10\n",
       "1         HR    A      F      90   25 2020-02-15\n",
       "2         IT    B      M      78   30 2021-03-20\n",
       "3         IT    B      F      85   22 2021-04-10\n",
       "4  Marketing    C      M      92   28 2020-05-30\n",
       "5  Marketing    C      F      88   26 2020-06-25\n",
       "6      Sales    D      M      75   21 2021-07-15\n",
       "7      Sales    D      F      80   27 2021-08-01"
      ]
     },
     "execution_count": 7,
     "metadata": {},
     "output_type": "execute_result"
    }
   ],
   "source": [
    "df"
   ]
  },
  {
   "cell_type": "code",
   "execution_count": 8,
   "id": "4636459a-e44e-4dce-bee2-c63afd9bb988",
   "metadata": {},
   "outputs": [
    {
     "data": {
      "text/plain": [
       "Department\n",
       "HR           87.5\n",
       "IT           81.5\n",
       "Marketing    90.0\n",
       "Sales        77.5\n",
       "Name: Salary, dtype: float64"
      ]
     },
     "execution_count": 8,
     "metadata": {},
     "output_type": "execute_result"
    }
   ],
   "source": [
    "df.groupby(\"Department\")[\"Salary\"].mean()"
   ]
  },
  {
   "cell_type": "code",
   "execution_count": 9,
   "id": "d7af22c9-5e53-465c-990c-46045088d489",
   "metadata": {},
   "outputs": [
    {
     "data": {
      "text/plain": [
       "pandas.core.series.Series"
      ]
     },
     "execution_count": 9,
     "metadata": {},
     "output_type": "execute_result"
    }
   ],
   "source": [
    "type(df.groupby(\"Department\")[\"Salary\"].mean())"
   ]
  },
  {
   "cell_type": "code",
   "execution_count": 10,
   "id": "d6a57c8a-642c-4da9-a8fa-2f9e7c818c3d",
   "metadata": {},
   "outputs": [
    {
     "data": {
      "text/plain": [
       "Team\n",
       "A    175\n",
       "B    163\n",
       "C    180\n",
       "D    155\n",
       "Name: Salary, dtype: int64"
      ]
     },
     "execution_count": 10,
     "metadata": {},
     "output_type": "execute_result"
    }
   ],
   "source": [
    "df.groupby(\"Team\")[\"Salary\"].sum()"
   ]
  },
  {
   "cell_type": "code",
   "execution_count": 11,
   "id": "5ee69a40-99e4-4f45-973f-0816ade28f93",
   "metadata": {},
   "outputs": [
    {
     "data": {
      "text/plain": [
       "Team\n",
       "A    2\n",
       "B    2\n",
       "C    2\n",
       "D    2\n",
       "Name: Salary, dtype: int64"
      ]
     },
     "execution_count": 11,
     "metadata": {},
     "output_type": "execute_result"
    }
   ],
   "source": [
    "df.groupby(\"Team\")[\"Salary\"].count()"
   ]
  },
  {
   "cell_type": "code",
   "execution_count": 12,
   "id": "f5d8780d-c2e2-41d4-a464-8872e113a03e",
   "metadata": {},
   "outputs": [
    {
     "data": {
      "text/plain": [
       "Department\n",
       "HR           87.5\n",
       "IT           81.5\n",
       "Marketing    90.0\n",
       "Sales        77.5\n",
       "Name: Salary, dtype: float64"
      ]
     },
     "execution_count": 12,
     "metadata": {},
     "output_type": "execute_result"
    }
   ],
   "source": [
    "df.groupby(\"Department\")[\"Salary\"].mean()"
   ]
  },
  {
   "cell_type": "code",
   "execution_count": 13,
   "id": "6e5d5d07-1702-4eac-befe-ed3c2b34e332",
   "metadata": {},
   "outputs": [
    {
     "data": {
      "text/plain": [
       "Department\n",
       "HR           90\n",
       "IT           85\n",
       "Marketing    92\n",
       "Sales        80\n",
       "Name: Salary, dtype: int64"
      ]
     },
     "execution_count": 13,
     "metadata": {},
     "output_type": "execute_result"
    }
   ],
   "source": [
    "df.groupby(\"Department\")[\"Salary\"].max()"
   ]
  },
  {
   "cell_type": "code",
   "execution_count": 15,
   "id": "61d96dc1-92ec-4131-9406-b0ed676cf857",
   "metadata": {},
   "outputs": [
    {
     "data": {
      "text/html": [
       "<div>\n",
       "<style scoped>\n",
       "    .dataframe tbody tr th:only-of-type {\n",
       "        vertical-align: middle;\n",
       "    }\n",
       "\n",
       "    .dataframe tbody tr th {\n",
       "        vertical-align: top;\n",
       "    }\n",
       "\n",
       "    .dataframe thead th {\n",
       "        text-align: right;\n",
       "    }\n",
       "</style>\n",
       "<table border=\"1\" class=\"dataframe\">\n",
       "  <thead>\n",
       "    <tr style=\"text-align: right;\">\n",
       "      <th></th>\n",
       "      <th>mean</th>\n",
       "      <th>max</th>\n",
       "      <th>min</th>\n",
       "    </tr>\n",
       "    <tr>\n",
       "      <th>Team</th>\n",
       "      <th></th>\n",
       "      <th></th>\n",
       "      <th></th>\n",
       "    </tr>\n",
       "  </thead>\n",
       "  <tbody>\n",
       "    <tr>\n",
       "      <th>A</th>\n",
       "      <td>87.5</td>\n",
       "      <td>90</td>\n",
       "      <td>85</td>\n",
       "    </tr>\n",
       "    <tr>\n",
       "      <th>B</th>\n",
       "      <td>81.5</td>\n",
       "      <td>85</td>\n",
       "      <td>78</td>\n",
       "    </tr>\n",
       "    <tr>\n",
       "      <th>C</th>\n",
       "      <td>90.0</td>\n",
       "      <td>92</td>\n",
       "      <td>88</td>\n",
       "    </tr>\n",
       "    <tr>\n",
       "      <th>D</th>\n",
       "      <td>77.5</td>\n",
       "      <td>80</td>\n",
       "      <td>75</td>\n",
       "    </tr>\n",
       "  </tbody>\n",
       "</table>\n",
       "</div>"
      ],
      "text/plain": [
       "      mean  max  min\n",
       "Team                \n",
       "A     87.5   90   85\n",
       "B     81.5   85   78\n",
       "C     90.0   92   88\n",
       "D     77.5   80   75"
      ]
     },
     "execution_count": 15,
     "metadata": {},
     "output_type": "execute_result"
    }
   ],
   "source": [
    "df.groupby(\"Team\")[\"Salary\"].agg([\"mean\", \"max\", \"min\"])"
   ]
  },
  {
   "cell_type": "code",
   "execution_count": 16,
   "id": "41ec9a69-d6b2-47be-a1c3-8e771f9a3c71",
   "metadata": {},
   "outputs": [
    {
     "data": {
      "text/html": [
       "<div>\n",
       "<style scoped>\n",
       "    .dataframe tbody tr th:only-of-type {\n",
       "        vertical-align: middle;\n",
       "    }\n",
       "\n",
       "    .dataframe tbody tr th {\n",
       "        vertical-align: top;\n",
       "    }\n",
       "\n",
       "    .dataframe thead th {\n",
       "        text-align: right;\n",
       "    }\n",
       "</style>\n",
       "<table border=\"1\" class=\"dataframe\">\n",
       "  <thead>\n",
       "    <tr style=\"text-align: right;\">\n",
       "      <th></th>\n",
       "      <th>avg_score</th>\n",
       "      <th>high_score</th>\n",
       "    </tr>\n",
       "    <tr>\n",
       "      <th>Team</th>\n",
       "      <th></th>\n",
       "      <th></th>\n",
       "    </tr>\n",
       "  </thead>\n",
       "  <tbody>\n",
       "    <tr>\n",
       "      <th>A</th>\n",
       "      <td>87.5</td>\n",
       "      <td>90</td>\n",
       "    </tr>\n",
       "    <tr>\n",
       "      <th>B</th>\n",
       "      <td>81.5</td>\n",
       "      <td>85</td>\n",
       "    </tr>\n",
       "    <tr>\n",
       "      <th>C</th>\n",
       "      <td>90.0</td>\n",
       "      <td>92</td>\n",
       "    </tr>\n",
       "    <tr>\n",
       "      <th>D</th>\n",
       "      <td>77.5</td>\n",
       "      <td>80</td>\n",
       "    </tr>\n",
       "  </tbody>\n",
       "</table>\n",
       "</div>"
      ],
      "text/plain": [
       "      avg_score  high_score\n",
       "Team                       \n",
       "A          87.5          90\n",
       "B          81.5          85\n",
       "C          90.0          92\n",
       "D          77.5          80"
      ]
     },
     "execution_count": 16,
     "metadata": {},
     "output_type": "execute_result"
    }
   ],
   "source": [
    "df.groupby(\"Team\")[\"Salary\"].agg(\n",
    "    avg_score=\"mean\",\n",
    "    high_score=\"max\"\n",
    ")"
   ]
  },
  {
   "cell_type": "code",
   "execution_count": 17,
   "id": "1cf7a7a8-fdef-4838-b4b8-ca4950ed7322",
   "metadata": {},
   "outputs": [],
   "source": [
    "df[\"Team Avg\"] = df.groupby(\"Team\")[\"Salary\"].transform(\"mean\")"
   ]
  },
  {
   "cell_type": "code",
   "execution_count": 18,
   "id": "918f2836-a6de-4e25-986c-07f237b99cea",
   "metadata": {},
   "outputs": [
    {
     "data": {
      "text/html": [
       "<div>\n",
       "<style scoped>\n",
       "    .dataframe tbody tr th:only-of-type {\n",
       "        vertical-align: middle;\n",
       "    }\n",
       "\n",
       "    .dataframe tbody tr th {\n",
       "        vertical-align: top;\n",
       "    }\n",
       "\n",
       "    .dataframe thead th {\n",
       "        text-align: right;\n",
       "    }\n",
       "</style>\n",
       "<table border=\"1\" class=\"dataframe\">\n",
       "  <thead>\n",
       "    <tr style=\"text-align: right;\">\n",
       "      <th></th>\n",
       "      <th>Department</th>\n",
       "      <th>Team</th>\n",
       "      <th>Gender</th>\n",
       "      <th>Salary</th>\n",
       "      <th>Age</th>\n",
       "      <th>JoinDate</th>\n",
       "      <th>Team Avg</th>\n",
       "    </tr>\n",
       "  </thead>\n",
       "  <tbody>\n",
       "    <tr>\n",
       "      <th>0</th>\n",
       "      <td>HR</td>\n",
       "      <td>A</td>\n",
       "      <td>M</td>\n",
       "      <td>85</td>\n",
       "      <td>23</td>\n",
       "      <td>2020-01-10</td>\n",
       "      <td>87.5</td>\n",
       "    </tr>\n",
       "    <tr>\n",
       "      <th>1</th>\n",
       "      <td>HR</td>\n",
       "      <td>A</td>\n",
       "      <td>F</td>\n",
       "      <td>90</td>\n",
       "      <td>25</td>\n",
       "      <td>2020-02-15</td>\n",
       "      <td>87.5</td>\n",
       "    </tr>\n",
       "    <tr>\n",
       "      <th>2</th>\n",
       "      <td>IT</td>\n",
       "      <td>B</td>\n",
       "      <td>M</td>\n",
       "      <td>78</td>\n",
       "      <td>30</td>\n",
       "      <td>2021-03-20</td>\n",
       "      <td>81.5</td>\n",
       "    </tr>\n",
       "    <tr>\n",
       "      <th>3</th>\n",
       "      <td>IT</td>\n",
       "      <td>B</td>\n",
       "      <td>F</td>\n",
       "      <td>85</td>\n",
       "      <td>22</td>\n",
       "      <td>2021-04-10</td>\n",
       "      <td>81.5</td>\n",
       "    </tr>\n",
       "    <tr>\n",
       "      <th>4</th>\n",
       "      <td>Marketing</td>\n",
       "      <td>C</td>\n",
       "      <td>M</td>\n",
       "      <td>92</td>\n",
       "      <td>28</td>\n",
       "      <td>2020-05-30</td>\n",
       "      <td>90.0</td>\n",
       "    </tr>\n",
       "    <tr>\n",
       "      <th>5</th>\n",
       "      <td>Marketing</td>\n",
       "      <td>C</td>\n",
       "      <td>F</td>\n",
       "      <td>88</td>\n",
       "      <td>26</td>\n",
       "      <td>2020-06-25</td>\n",
       "      <td>90.0</td>\n",
       "    </tr>\n",
       "    <tr>\n",
       "      <th>6</th>\n",
       "      <td>Sales</td>\n",
       "      <td>D</td>\n",
       "      <td>M</td>\n",
       "      <td>75</td>\n",
       "      <td>21</td>\n",
       "      <td>2021-07-15</td>\n",
       "      <td>77.5</td>\n",
       "    </tr>\n",
       "    <tr>\n",
       "      <th>7</th>\n",
       "      <td>Sales</td>\n",
       "      <td>D</td>\n",
       "      <td>F</td>\n",
       "      <td>80</td>\n",
       "      <td>27</td>\n",
       "      <td>2021-08-01</td>\n",
       "      <td>77.5</td>\n",
       "    </tr>\n",
       "  </tbody>\n",
       "</table>\n",
       "</div>"
      ],
      "text/plain": [
       "  Department Team Gender  Salary  Age   JoinDate  Team Avg\n",
       "0         HR    A      M      85   23 2020-01-10      87.5\n",
       "1         HR    A      F      90   25 2020-02-15      87.5\n",
       "2         IT    B      M      78   30 2021-03-20      81.5\n",
       "3         IT    B      F      85   22 2021-04-10      81.5\n",
       "4  Marketing    C      M      92   28 2020-05-30      90.0\n",
       "5  Marketing    C      F      88   26 2020-06-25      90.0\n",
       "6      Sales    D      M      75   21 2021-07-15      77.5\n",
       "7      Sales    D      F      80   27 2021-08-01      77.5"
      ]
     },
     "execution_count": 18,
     "metadata": {},
     "output_type": "execute_result"
    }
   ],
   "source": [
    "df"
   ]
  },
  {
   "cell_type": "code",
   "execution_count": 19,
   "id": "a6a55065-9def-4c1f-bda7-6d3a4a1813f8",
   "metadata": {},
   "outputs": [
    {
     "data": {
      "text/html": [
       "<div>\n",
       "<style scoped>\n",
       "    .dataframe tbody tr th:only-of-type {\n",
       "        vertical-align: middle;\n",
       "    }\n",
       "\n",
       "    .dataframe tbody tr th {\n",
       "        vertical-align: top;\n",
       "    }\n",
       "\n",
       "    .dataframe thead th {\n",
       "        text-align: right;\n",
       "    }\n",
       "</style>\n",
       "<table border=\"1\" class=\"dataframe\">\n",
       "  <thead>\n",
       "    <tr style=\"text-align: right;\">\n",
       "      <th></th>\n",
       "      <th>Department</th>\n",
       "      <th>Team</th>\n",
       "      <th>Gender</th>\n",
       "      <th>Salary</th>\n",
       "      <th>Age</th>\n",
       "      <th>JoinDate</th>\n",
       "      <th>Team Avg</th>\n",
       "    </tr>\n",
       "  </thead>\n",
       "  <tbody>\n",
       "    <tr>\n",
       "      <th>0</th>\n",
       "      <td>HR</td>\n",
       "      <td>A</td>\n",
       "      <td>M</td>\n",
       "      <td>85</td>\n",
       "      <td>23</td>\n",
       "      <td>2020-01-10</td>\n",
       "      <td>87.5</td>\n",
       "    </tr>\n",
       "    <tr>\n",
       "      <th>1</th>\n",
       "      <td>HR</td>\n",
       "      <td>A</td>\n",
       "      <td>F</td>\n",
       "      <td>90</td>\n",
       "      <td>25</td>\n",
       "      <td>2020-02-15</td>\n",
       "      <td>87.5</td>\n",
       "    </tr>\n",
       "    <tr>\n",
       "      <th>4</th>\n",
       "      <td>Marketing</td>\n",
       "      <td>C</td>\n",
       "      <td>M</td>\n",
       "      <td>92</td>\n",
       "      <td>28</td>\n",
       "      <td>2020-05-30</td>\n",
       "      <td>90.0</td>\n",
       "    </tr>\n",
       "    <tr>\n",
       "      <th>5</th>\n",
       "      <td>Marketing</td>\n",
       "      <td>C</td>\n",
       "      <td>F</td>\n",
       "      <td>88</td>\n",
       "      <td>26</td>\n",
       "      <td>2020-06-25</td>\n",
       "      <td>90.0</td>\n",
       "    </tr>\n",
       "  </tbody>\n",
       "</table>\n",
       "</div>"
      ],
      "text/plain": [
       "  Department Team Gender  Salary  Age   JoinDate  Team Avg\n",
       "0         HR    A      M      85   23 2020-01-10      87.5\n",
       "1         HR    A      F      90   25 2020-02-15      87.5\n",
       "4  Marketing    C      M      92   28 2020-05-30      90.0\n",
       "5  Marketing    C      F      88   26 2020-06-25      90.0"
      ]
     },
     "execution_count": 19,
     "metadata": {},
     "output_type": "execute_result"
    }
   ],
   "source": [
    "df.groupby(\"Team\").filter(lambda x: x[\"Salary\"].mean() > 85)"
   ]
  },
  {
   "cell_type": "code",
   "execution_count": null,
   "id": "54ca6c44-7591-4741-bc8a-a8a57feb809c",
   "metadata": {},
   "outputs": [],
   "source": []
  }
 ],
 "metadata": {
  "kernelspec": {
   "display_name": "Python 3 (ipykernel)",
   "language": "python",
   "name": "python3"
  },
  "language_info": {
   "codemirror_mode": {
    "name": "ipython",
    "version": 3
   },
   "file_extension": ".py",
   "mimetype": "text/x-python",
   "name": "python",
   "nbconvert_exporter": "python",
   "pygments_lexer": "ipython3",
   "version": "3.12.11"
  }
 },
 "nbformat": 4,
 "nbformat_minor": 5
}
