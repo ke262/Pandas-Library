{
 "cells": [
  {
   "cell_type": "code",
   "execution_count": 2,
   "id": "42a5c9b6-911f-4fd8-8f09-8fb6ceb2c308",
   "metadata": {},
   "outputs": [],
   "source": [
    "import pandas as pd"
   ]
  },
  {
   "cell_type": "code",
   "execution_count": 5,
   "id": "c567d75d-6f68-4fd7-a41a-8b4d01426465",
   "metadata": {},
   "outputs": [],
   "source": [
    "s1 = pd.Series([71, 84, 56, 23, 56, 98, 56])"
   ]
  },
  {
   "cell_type": "code",
   "execution_count": 6,
   "id": "cd871c48-7689-4aee-97d2-7f1dd6c65e58",
   "metadata": {},
   "outputs": [
    {
     "data": {
      "text/plain": [
       "pandas.core.series.Series"
      ]
     },
     "execution_count": 6,
     "metadata": {},
     "output_type": "execute_result"
    }
   ],
   "source": [
    "type(s1)"
   ]
  },
  {
   "cell_type": "code",
   "execution_count": 7,
   "id": "43c1e0ac-4d91-4ae3-83f8-06b805978385",
   "metadata": {},
   "outputs": [
    {
     "name": "stdout",
     "output_type": "stream",
     "text": [
      "0    71\n",
      "1    84\n",
      "2    56\n",
      "3    23\n",
      "4    56\n",
      "5    98\n",
      "6    56\n",
      "dtype: int64\n"
     ]
    }
   ],
   "source": [
    "print(s1)"
   ]
  },
  {
   "cell_type": "code",
   "execution_count": 11,
   "id": "aae6f1e3-5b55-4b72-8da4-0c15fd751703",
   "metadata": {},
   "outputs": [],
   "source": [
    "s2 = pd.Series([71, 84, 56, 23, 56, 98, 56], index=[\"Harry\", \"Shubh\", \"Rohan\", \"Akash\", \"Kirti\", \"John\", \"Rehan\"])"
   ]
  },
  {
   "cell_type": "code",
   "execution_count": 12,
   "id": "c748b104-9bcf-42c0-9426-e4bcfaa85533",
   "metadata": {},
   "outputs": [
    {
     "data": {
      "text/plain": [
       "Harry    71\n",
       "Shubh    84\n",
       "Rohan    56\n",
       "Akash    23\n",
       "Kirti    56\n",
       "John     98\n",
       "Rehan    56\n",
       "dtype: int64"
      ]
     },
     "execution_count": 12,
     "metadata": {},
     "output_type": "execute_result"
    }
   ],
   "source": [
    "s2"
   ]
  },
  {
   "cell_type": "code",
   "execution_count": 13,
   "id": "5bfabc2e-dcfa-4fae-b5d6-9dcda7ceb8fa",
   "metadata": {},
   "outputs": [
    {
     "data": {
      "text/plain": [
       "np.int64(71)"
      ]
     },
     "execution_count": 13,
     "metadata": {},
     "output_type": "execute_result"
    }
   ],
   "source": [
    "s2[\"Harry\"]"
   ]
  },
  {
   "cell_type": "code",
   "execution_count": 14,
   "id": "40282f94-3625-492a-a659-a7846db60bee",
   "metadata": {},
   "outputs": [],
   "source": [
    "data = {\n",
    "    \"name\": [\"Alice\", \"Bob\", \"Charlie\"],\n",
    "    \"age\": [25, 30, 35],\n",
    "    \"city\": [\"Delhi\", \"Mumbai\", \"Bangalore\"]\n",
    "}"
   ]
  },
  {
   "cell_type": "code",
   "execution_count": 16,
   "id": "648884bb-2a54-4dd9-8d35-ddf89b222af5",
   "metadata": {},
   "outputs": [],
   "source": [
    " df = pd.DataFrame(data)\n"
   ]
  },
  {
   "cell_type": "code",
   "execution_count": 17,
   "id": "dbdc7a0c-3a7e-4108-87c2-b79d07be15a8",
   "metadata": {},
   "outputs": [
    {
     "data": {
      "text/html": [
       "<div>\n",
       "<style scoped>\n",
       "    .dataframe tbody tr th:only-of-type {\n",
       "        vertical-align: middle;\n",
       "    }\n",
       "\n",
       "    .dataframe tbody tr th {\n",
       "        vertical-align: top;\n",
       "    }\n",
       "\n",
       "    .dataframe thead th {\n",
       "        text-align: right;\n",
       "    }\n",
       "</style>\n",
       "<table border=\"1\" class=\"dataframe\">\n",
       "  <thead>\n",
       "    <tr style=\"text-align: right;\">\n",
       "      <th></th>\n",
       "      <th>name</th>\n",
       "      <th>age</th>\n",
       "      <th>city</th>\n",
       "    </tr>\n",
       "  </thead>\n",
       "  <tbody>\n",
       "    <tr>\n",
       "      <th>0</th>\n",
       "      <td>Alice</td>\n",
       "      <td>25</td>\n",
       "      <td>Delhi</td>\n",
       "    </tr>\n",
       "    <tr>\n",
       "      <th>1</th>\n",
       "      <td>Bob</td>\n",
       "      <td>30</td>\n",
       "      <td>Mumbai</td>\n",
       "    </tr>\n",
       "    <tr>\n",
       "      <th>2</th>\n",
       "      <td>Charlie</td>\n",
       "      <td>35</td>\n",
       "      <td>Bangalore</td>\n",
       "    </tr>\n",
       "  </tbody>\n",
       "</table>\n",
       "</div>"
      ],
      "text/plain": [
       "      name  age       city\n",
       "0    Alice   25      Delhi\n",
       "1      Bob   30     Mumbai\n",
       "2  Charlie   35  Bangalore"
      ]
     },
     "execution_count": 17,
     "metadata": {},
     "output_type": "execute_result"
    }
   ],
   "source": [
    "df"
   ]
  },
  {
   "cell_type": "code",
   "execution_count": 18,
   "id": "459a4bd6-847d-4a98-81de-1edf5c65c83a",
   "metadata": {},
   "outputs": [
    {
     "data": {
      "text/plain": [
       "RangeIndex(start=0, stop=3, step=1)"
      ]
     },
     "execution_count": 18,
     "metadata": {},
     "output_type": "execute_result"
    }
   ],
   "source": [
    "df.index"
   ]
  },
  {
   "cell_type": "code",
   "execution_count": 19,
   "id": "2ddca834-c0b0-415e-b5b3-b8e8a4bf1fd4",
   "metadata": {},
   "outputs": [
    {
     "data": {
      "text/plain": [
       "Index(['name', 'age', 'city'], dtype='object')"
      ]
     },
     "execution_count": 19,
     "metadata": {},
     "output_type": "execute_result"
    }
   ],
   "source": [
    "df.columns"
   ]
  },
  {
   "cell_type": "code",
   "execution_count": null,
   "id": "2e387448-f4b2-4631-b37f-6e5fae03f3ac",
   "metadata": {},
   "outputs": [],
   "source": []
  }
 ],
 "metadata": {
  "kernelspec": {
   "display_name": "Python 3 (ipykernel)",
   "language": "python",
   "name": "python3"
  },
  "language_info": {
   "codemirror_mode": {
    "name": "ipython",
    "version": 3
   },
   "file_extension": ".py",
   "mimetype": "text/x-python",
   "name": "python",
   "nbconvert_exporter": "python",
   "pygments_lexer": "ipython3",
   "version": "3.12.11"
  }
 },
 "nbformat": 4,
 "nbformat_minor": 5
}
